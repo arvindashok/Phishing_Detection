{
 "cells": [
  {
   "cell_type": "code",
   "execution_count": 1,
   "metadata": {},
   "outputs": [],
   "source": [
    "import pandas as pd\n",
    "from sklearn.preprocessing import LabelEncoder\n",
    "from sklearn.model_selection import train_test_split\n",
    "import math\n",
    "import catboost\n",
    "from lightgbm import LGBMClassifier\n",
    "from sklearn.model_selection import train_test_split\n",
    "from sklearn.metrics import classification_report, confusion_matrix\n",
    "from sklearn.tree import DecisionTreeClassifier\n",
    "from sklearn.ensemble import RandomForestClassifier\n",
    "from imblearn.over_sampling import SMOTE"
   ]
  },
  {
   "cell_type": "code",
   "execution_count": 2,
   "metadata": {},
   "outputs": [
    {
     "name": "stdout",
     "output_type": "stream",
     "text": [
      "651191\n"
     ]
    },
    {
     "data": {
      "text/plain": [
       "type\n",
       "benign        428103\n",
       "defacement     96457\n",
       "phishing       94111\n",
       "malware        32520\n",
       "Name: count, dtype: int64"
      ]
     },
     "execution_count": 2,
     "metadata": {},
     "output_type": "execute_result"
    }
   ],
   "source": [
    "df = pd.read_csv('kaggle_4.csv')\n",
    "print (len(df))\n",
    "df.type.value_counts()"
   ]
  },
  {
   "cell_type": "code",
   "execution_count": 6,
   "metadata": {},
   "outputs": [
    {
     "name": "stdout",
     "output_type": "stream",
     "text": [
      "type\n",
      "0    428103\n",
      "1     96457\n",
      "3     94111\n",
      "2     32520\n",
      "Name: count, dtype: int64\n"
     ]
    },
    {
     "data": {
      "text/html": [
       "<div>\n",
       "<style scoped>\n",
       "    .dataframe tbody tr th:only-of-type {\n",
       "        vertical-align: middle;\n",
       "    }\n",
       "\n",
       "    .dataframe tbody tr th {\n",
       "        vertical-align: top;\n",
       "    }\n",
       "\n",
       "    .dataframe thead th {\n",
       "        text-align: right;\n",
       "    }\n",
       "</style>\n",
       "<table border=\"1\" class=\"dataframe\">\n",
       "  <thead>\n",
       "    <tr style=\"text-align: right;\">\n",
       "      <th></th>\n",
       "      <th>url</th>\n",
       "      <th>type</th>\n",
       "    </tr>\n",
       "  </thead>\n",
       "  <tbody>\n",
       "    <tr>\n",
       "      <th>0</th>\n",
       "      <td>br-icloud.com.br</td>\n",
       "      <td>3</td>\n",
       "    </tr>\n",
       "    <tr>\n",
       "      <th>1</th>\n",
       "      <td>mp3raid.com/music/krizz_kaliko.html</td>\n",
       "      <td>0</td>\n",
       "    </tr>\n",
       "    <tr>\n",
       "      <th>2</th>\n",
       "      <td>bopsecrets.org/rexroth/cr/1.htm</td>\n",
       "      <td>0</td>\n",
       "    </tr>\n",
       "    <tr>\n",
       "      <th>3</th>\n",
       "      <td>http://www.garage-pirenne.be/index.php?option=...</td>\n",
       "      <td>1</td>\n",
       "    </tr>\n",
       "    <tr>\n",
       "      <th>4</th>\n",
       "      <td>http://adventure-nicaragua.net/index.php?optio...</td>\n",
       "      <td>1</td>\n",
       "    </tr>\n",
       "    <tr>\n",
       "      <th>5</th>\n",
       "      <td>http://buzzfil.net/m/show-art/ils-etaient-loin...</td>\n",
       "      <td>0</td>\n",
       "    </tr>\n",
       "    <tr>\n",
       "      <th>6</th>\n",
       "      <td>espn.go.com/nba/player/_/id/3457/brandon-rush</td>\n",
       "      <td>0</td>\n",
       "    </tr>\n",
       "    <tr>\n",
       "      <th>7</th>\n",
       "      <td>yourbittorrent.com/?q=anthony-hamilton-soulife</td>\n",
       "      <td>0</td>\n",
       "    </tr>\n",
       "    <tr>\n",
       "      <th>8</th>\n",
       "      <td>http://www.pashminaonline.com/pure-pashminas</td>\n",
       "      <td>1</td>\n",
       "    </tr>\n",
       "    <tr>\n",
       "      <th>9</th>\n",
       "      <td>allmusic.com/album/crazy-from-the-heat-r16990</td>\n",
       "      <td>0</td>\n",
       "    </tr>\n",
       "  </tbody>\n",
       "</table>\n",
       "</div>"
      ],
      "text/plain": [
       "                                                 url  type\n",
       "0                                   br-icloud.com.br     3\n",
       "1                mp3raid.com/music/krizz_kaliko.html     0\n",
       "2                    bopsecrets.org/rexroth/cr/1.htm     0\n",
       "3  http://www.garage-pirenne.be/index.php?option=...     1\n",
       "4  http://adventure-nicaragua.net/index.php?optio...     1\n",
       "5  http://buzzfil.net/m/show-art/ils-etaient-loin...     0\n",
       "6      espn.go.com/nba/player/_/id/3457/brandon-rush     0\n",
       "7     yourbittorrent.com/?q=anthony-hamilton-soulife     0\n",
       "8       http://www.pashminaonline.com/pure-pashminas     1\n",
       "9      allmusic.com/album/crazy-from-the-heat-r16990     0"
      ]
     },
     "execution_count": 6,
     "metadata": {},
     "output_type": "execute_result"
    }
   ],
   "source": [
    "Label = LabelEncoder()\n",
    "df['type'] = Label.fit_transform(df['type'])\n",
    "print (df.type.value_counts())\n",
    "df.head()"
   ]
  },
  {
   "cell_type": "markdown",
   "metadata": {},
   "source": [
    "Feature Extraction:\n",
    "\n",
    "leangth, number of (., /, //, #), presence of unicode and https"
   ]
  },
  {
   "cell_type": "code",
   "execution_count": 7,
   "metadata": {},
   "outputs": [
    {
     "data": {
      "text/html": [
       "<div>\n",
       "<style scoped>\n",
       "    .dataframe tbody tr th:only-of-type {\n",
       "        vertical-align: middle;\n",
       "    }\n",
       "\n",
       "    .dataframe tbody tr th {\n",
       "        vertical-align: top;\n",
       "    }\n",
       "\n",
       "    .dataframe thead th {\n",
       "        text-align: right;\n",
       "    }\n",
       "</style>\n",
       "<table border=\"1\" class=\"dataframe\">\n",
       "  <thead>\n",
       "    <tr style=\"text-align: right;\">\n",
       "      <th></th>\n",
       "      <th>url</th>\n",
       "      <th>type</th>\n",
       "      <th>url_length</th>\n",
       "      <th>num_dots</th>\n",
       "      <th>num_slash</th>\n",
       "      <th>num_redir</th>\n",
       "      <th>num_dash</th>\n",
       "      <th>contains_anchor</th>\n",
       "      <th>has_https</th>\n",
       "    </tr>\n",
       "  </thead>\n",
       "  <tbody>\n",
       "    <tr>\n",
       "      <th>0</th>\n",
       "      <td>br-icloud.com.br</td>\n",
       "      <td>3</td>\n",
       "      <td>16</td>\n",
       "      <td>2</td>\n",
       "      <td>0</td>\n",
       "      <td>0</td>\n",
       "      <td>1</td>\n",
       "      <td>False</td>\n",
       "      <td>False</td>\n",
       "    </tr>\n",
       "    <tr>\n",
       "      <th>1</th>\n",
       "      <td>mp3raid.com/music/krizz_kaliko.html</td>\n",
       "      <td>0</td>\n",
       "      <td>35</td>\n",
       "      <td>2</td>\n",
       "      <td>2</td>\n",
       "      <td>0</td>\n",
       "      <td>0</td>\n",
       "      <td>False</td>\n",
       "      <td>False</td>\n",
       "    </tr>\n",
       "    <tr>\n",
       "      <th>2</th>\n",
       "      <td>bopsecrets.org/rexroth/cr/1.htm</td>\n",
       "      <td>0</td>\n",
       "      <td>31</td>\n",
       "      <td>2</td>\n",
       "      <td>3</td>\n",
       "      <td>0</td>\n",
       "      <td>0</td>\n",
       "      <td>False</td>\n",
       "      <td>False</td>\n",
       "    </tr>\n",
       "    <tr>\n",
       "      <th>3</th>\n",
       "      <td>http://www.garage-pirenne.be/index.php?option=...</td>\n",
       "      <td>1</td>\n",
       "      <td>88</td>\n",
       "      <td>3</td>\n",
       "      <td>3</td>\n",
       "      <td>1</td>\n",
       "      <td>1</td>\n",
       "      <td>False</td>\n",
       "      <td>False</td>\n",
       "    </tr>\n",
       "    <tr>\n",
       "      <th>4</th>\n",
       "      <td>http://adventure-nicaragua.net/index.php?optio...</td>\n",
       "      <td>1</td>\n",
       "      <td>235</td>\n",
       "      <td>2</td>\n",
       "      <td>3</td>\n",
       "      <td>1</td>\n",
       "      <td>1</td>\n",
       "      <td>False</td>\n",
       "      <td>False</td>\n",
       "    </tr>\n",
       "  </tbody>\n",
       "</table>\n",
       "</div>"
      ],
      "text/plain": [
       "                                                 url  type  url_length  \\\n",
       "0                                   br-icloud.com.br     3          16   \n",
       "1                mp3raid.com/music/krizz_kaliko.html     0          35   \n",
       "2                    bopsecrets.org/rexroth/cr/1.htm     0          31   \n",
       "3  http://www.garage-pirenne.be/index.php?option=...     1          88   \n",
       "4  http://adventure-nicaragua.net/index.php?optio...     1         235   \n",
       "\n",
       "   num_dots  num_slash  num_redir  num_dash  contains_anchor  has_https  \n",
       "0         2          0          0         1            False      False  \n",
       "1         2          2          0         0            False      False  \n",
       "2         2          3          0         0            False      False  \n",
       "3         3          3          1         1            False      False  \n",
       "4         2          3          1         1            False      False  "
      ]
     },
     "execution_count": 7,
     "metadata": {},
     "output_type": "execute_result"
    }
   ],
   "source": [
    "df['url_length'] = df['url'].apply(len)\n",
    "df['num_dots'] = df['url'].apply(lambda x: x.count('.'))\n",
    "df['num_slash'] = df['url'].apply(lambda x: x.count('/'))\n",
    "df['num_redir'] = df['url'].apply(lambda x: x.count('//'))\n",
    "df['num_dash'] = df['url'].apply(lambda x: x.count('-'))\n",
    "df['contains_anchor'] = df['url'].str.contains('#')\n",
    "df['has_https'] = df['url'].str.contains(\"https\")\n",
    "df.head()"
   ]
  },
  {
   "cell_type": "code",
   "execution_count": 9,
   "metadata": {},
   "outputs": [
    {
     "data": {
      "text/html": [
       "<div>\n",
       "<style scoped>\n",
       "    .dataframe tbody tr th:only-of-type {\n",
       "        vertical-align: middle;\n",
       "    }\n",
       "\n",
       "    .dataframe tbody tr th {\n",
       "        vertical-align: top;\n",
       "    }\n",
       "\n",
       "    .dataframe thead th {\n",
       "        text-align: right;\n",
       "    }\n",
       "</style>\n",
       "<table border=\"1\" class=\"dataframe\">\n",
       "  <thead>\n",
       "    <tr style=\"text-align: right;\">\n",
       "      <th></th>\n",
       "      <th>url</th>\n",
       "      <th>type</th>\n",
       "      <th>url_length</th>\n",
       "      <th>num_dots</th>\n",
       "      <th>num_slash</th>\n",
       "      <th>num_redir</th>\n",
       "      <th>num_dash</th>\n",
       "      <th>contains_anchor</th>\n",
       "      <th>has_https</th>\n",
       "      <th>contains_unicode</th>\n",
       "    </tr>\n",
       "  </thead>\n",
       "  <tbody>\n",
       "    <tr>\n",
       "      <th>0</th>\n",
       "      <td>br-icloud.com.br</td>\n",
       "      <td>3</td>\n",
       "      <td>16</td>\n",
       "      <td>2</td>\n",
       "      <td>0</td>\n",
       "      <td>0</td>\n",
       "      <td>1</td>\n",
       "      <td>False</td>\n",
       "      <td>False</td>\n",
       "      <td>False</td>\n",
       "    </tr>\n",
       "    <tr>\n",
       "      <th>1</th>\n",
       "      <td>mp3raid.com/music/krizz_kaliko.html</td>\n",
       "      <td>0</td>\n",
       "      <td>35</td>\n",
       "      <td>2</td>\n",
       "      <td>2</td>\n",
       "      <td>0</td>\n",
       "      <td>0</td>\n",
       "      <td>False</td>\n",
       "      <td>False</td>\n",
       "      <td>False</td>\n",
       "    </tr>\n",
       "    <tr>\n",
       "      <th>2</th>\n",
       "      <td>bopsecrets.org/rexroth/cr/1.htm</td>\n",
       "      <td>0</td>\n",
       "      <td>31</td>\n",
       "      <td>2</td>\n",
       "      <td>3</td>\n",
       "      <td>0</td>\n",
       "      <td>0</td>\n",
       "      <td>False</td>\n",
       "      <td>False</td>\n",
       "      <td>False</td>\n",
       "    </tr>\n",
       "    <tr>\n",
       "      <th>3</th>\n",
       "      <td>http://www.garage-pirenne.be/index.php?option=...</td>\n",
       "      <td>1</td>\n",
       "      <td>88</td>\n",
       "      <td>3</td>\n",
       "      <td>3</td>\n",
       "      <td>1</td>\n",
       "      <td>1</td>\n",
       "      <td>False</td>\n",
       "      <td>False</td>\n",
       "      <td>False</td>\n",
       "    </tr>\n",
       "    <tr>\n",
       "      <th>4</th>\n",
       "      <td>http://adventure-nicaragua.net/index.php?optio...</td>\n",
       "      <td>1</td>\n",
       "      <td>235</td>\n",
       "      <td>2</td>\n",
       "      <td>3</td>\n",
       "      <td>1</td>\n",
       "      <td>1</td>\n",
       "      <td>False</td>\n",
       "      <td>False</td>\n",
       "      <td>False</td>\n",
       "    </tr>\n",
       "  </tbody>\n",
       "</table>\n",
       "</div>"
      ],
      "text/plain": [
       "                                                 url  type  url_length  \\\n",
       "0                                   br-icloud.com.br     3          16   \n",
       "1                mp3raid.com/music/krizz_kaliko.html     0          35   \n",
       "2                    bopsecrets.org/rexroth/cr/1.htm     0          31   \n",
       "3  http://www.garage-pirenne.be/index.php?option=...     1          88   \n",
       "4  http://adventure-nicaragua.net/index.php?optio...     1         235   \n",
       "\n",
       "   num_dots  num_slash  num_redir  num_dash  contains_anchor  has_https  \\\n",
       "0         2          0          0         1            False      False   \n",
       "1         2          2          0         0            False      False   \n",
       "2         2          3          0         0            False      False   \n",
       "3         3          3          1         1            False      False   \n",
       "4         2          3          1         1            False      False   \n",
       "\n",
       "   contains_unicode  \n",
       "0             False  \n",
       "1             False  \n",
       "2             False  \n",
       "3             False  \n",
       "4             False  "
      ]
     },
     "execution_count": 9,
     "metadata": {},
     "output_type": "execute_result"
    }
   ],
   "source": [
    "def contains_unicode(url):\n",
    "    for char in url:\n",
    "        if ord(char) > 127:\n",
    "            return True\n",
    "    return False\n",
    "\n",
    "df['contains_unicode'] = df['url'].apply(contains_unicode)\n",
    "df.head()"
   ]
  },
  {
   "cell_type": "code",
   "execution_count": 11,
   "metadata": {},
   "outputs": [
    {
     "name": "stdout",
     "output_type": "stream",
     "text": [
      "0    3\n",
      "1    0\n",
      "2    0\n",
      "3    1\n",
      "4    1\n",
      "Name: type, dtype: int64\n"
     ]
    },
    {
     "data": {
      "text/html": [
       "<div>\n",
       "<style scoped>\n",
       "    .dataframe tbody tr th:only-of-type {\n",
       "        vertical-align: middle;\n",
       "    }\n",
       "\n",
       "    .dataframe tbody tr th {\n",
       "        vertical-align: top;\n",
       "    }\n",
       "\n",
       "    .dataframe thead th {\n",
       "        text-align: right;\n",
       "    }\n",
       "</style>\n",
       "<table border=\"1\" class=\"dataframe\">\n",
       "  <thead>\n",
       "    <tr style=\"text-align: right;\">\n",
       "      <th></th>\n",
       "      <th>url_length</th>\n",
       "      <th>num_dots</th>\n",
       "      <th>num_slash</th>\n",
       "      <th>num_redir</th>\n",
       "      <th>num_dash</th>\n",
       "      <th>contains_anchor</th>\n",
       "      <th>has_https</th>\n",
       "      <th>contains_unicode</th>\n",
       "    </tr>\n",
       "  </thead>\n",
       "  <tbody>\n",
       "    <tr>\n",
       "      <th>0</th>\n",
       "      <td>16</td>\n",
       "      <td>2</td>\n",
       "      <td>0</td>\n",
       "      <td>0</td>\n",
       "      <td>1</td>\n",
       "      <td>False</td>\n",
       "      <td>False</td>\n",
       "      <td>False</td>\n",
       "    </tr>\n",
       "    <tr>\n",
       "      <th>1</th>\n",
       "      <td>35</td>\n",
       "      <td>2</td>\n",
       "      <td>2</td>\n",
       "      <td>0</td>\n",
       "      <td>0</td>\n",
       "      <td>False</td>\n",
       "      <td>False</td>\n",
       "      <td>False</td>\n",
       "    </tr>\n",
       "    <tr>\n",
       "      <th>2</th>\n",
       "      <td>31</td>\n",
       "      <td>2</td>\n",
       "      <td>3</td>\n",
       "      <td>0</td>\n",
       "      <td>0</td>\n",
       "      <td>False</td>\n",
       "      <td>False</td>\n",
       "      <td>False</td>\n",
       "    </tr>\n",
       "    <tr>\n",
       "      <th>3</th>\n",
       "      <td>88</td>\n",
       "      <td>3</td>\n",
       "      <td>3</td>\n",
       "      <td>1</td>\n",
       "      <td>1</td>\n",
       "      <td>False</td>\n",
       "      <td>False</td>\n",
       "      <td>False</td>\n",
       "    </tr>\n",
       "    <tr>\n",
       "      <th>4</th>\n",
       "      <td>235</td>\n",
       "      <td>2</td>\n",
       "      <td>3</td>\n",
       "      <td>1</td>\n",
       "      <td>1</td>\n",
       "      <td>False</td>\n",
       "      <td>False</td>\n",
       "      <td>False</td>\n",
       "    </tr>\n",
       "  </tbody>\n",
       "</table>\n",
       "</div>"
      ],
      "text/plain": [
       "   url_length  num_dots  num_slash  num_redir  num_dash  contains_anchor  \\\n",
       "0          16         2          0          0         1            False   \n",
       "1          35         2          2          0         0            False   \n",
       "2          31         2          3          0         0            False   \n",
       "3          88         3          3          1         1            False   \n",
       "4         235         2          3          1         1            False   \n",
       "\n",
       "   has_https  contains_unicode  \n",
       "0      False             False  \n",
       "1      False             False  \n",
       "2      False             False  \n",
       "3      False             False  \n",
       "4      False             False  "
      ]
     },
     "execution_count": 11,
     "metadata": {},
     "output_type": "execute_result"
    }
   ],
   "source": [
    "input = df.drop(['url', 'type'], axis='columns')\n",
    "target = df.type\n",
    "print(target.head())\n",
    "input.head()"
   ]
  },
  {
   "cell_type": "code",
   "execution_count": 12,
   "metadata": {},
   "outputs": [
    {
     "data": {
      "text/plain": [
       "651191"
      ]
     },
     "execution_count": 12,
     "metadata": {},
     "output_type": "execute_result"
    }
   ],
   "source": [
    "len (input)\n"
   ]
  },
  {
   "cell_type": "code",
   "execution_count": 13,
   "metadata": {},
   "outputs": [
    {
     "name": "stdout",
     "output_type": "stream",
     "text": [
      "130239\n",
      "520952\n"
     ]
    }
   ],
   "source": [
    "X_train, X_test, y_train, y_test = train_test_split(input, target, test_size=0.2)\n",
    "print (len (X_test))\n",
    "print (len (X_train))"
   ]
  },
  {
   "cell_type": "markdown",
   "metadata": {},
   "source": [
    "Random Forest"
   ]
  },
  {
   "cell_type": "code",
   "execution_count": 21,
   "metadata": {},
   "outputs": [
    {
     "data": {
      "text/html": [
       "<style>#sk-container-id-3 {color: black;}#sk-container-id-3 pre{padding: 0;}#sk-container-id-3 div.sk-toggleable {background-color: white;}#sk-container-id-3 label.sk-toggleable__label {cursor: pointer;display: block;width: 100%;margin-bottom: 0;padding: 0.3em;box-sizing: border-box;text-align: center;}#sk-container-id-3 label.sk-toggleable__label-arrow:before {content: \"▸\";float: left;margin-right: 0.25em;color: #696969;}#sk-container-id-3 label.sk-toggleable__label-arrow:hover:before {color: black;}#sk-container-id-3 div.sk-estimator:hover label.sk-toggleable__label-arrow:before {color: black;}#sk-container-id-3 div.sk-toggleable__content {max-height: 0;max-width: 0;overflow: hidden;text-align: left;background-color: #f0f8ff;}#sk-container-id-3 div.sk-toggleable__content pre {margin: 0.2em;color: black;border-radius: 0.25em;background-color: #f0f8ff;}#sk-container-id-3 input.sk-toggleable__control:checked~div.sk-toggleable__content {max-height: 200px;max-width: 100%;overflow: auto;}#sk-container-id-3 input.sk-toggleable__control:checked~label.sk-toggleable__label-arrow:before {content: \"▾\";}#sk-container-id-3 div.sk-estimator input.sk-toggleable__control:checked~label.sk-toggleable__label {background-color: #d4ebff;}#sk-container-id-3 div.sk-label input.sk-toggleable__control:checked~label.sk-toggleable__label {background-color: #d4ebff;}#sk-container-id-3 input.sk-hidden--visually {border: 0;clip: rect(1px 1px 1px 1px);clip: rect(1px, 1px, 1px, 1px);height: 1px;margin: -1px;overflow: hidden;padding: 0;position: absolute;width: 1px;}#sk-container-id-3 div.sk-estimator {font-family: monospace;background-color: #f0f8ff;border: 1px dotted black;border-radius: 0.25em;box-sizing: border-box;margin-bottom: 0.5em;}#sk-container-id-3 div.sk-estimator:hover {background-color: #d4ebff;}#sk-container-id-3 div.sk-parallel-item::after {content: \"\";width: 100%;border-bottom: 1px solid gray;flex-grow: 1;}#sk-container-id-3 div.sk-label:hover label.sk-toggleable__label {background-color: #d4ebff;}#sk-container-id-3 div.sk-serial::before {content: \"\";position: absolute;border-left: 1px solid gray;box-sizing: border-box;top: 0;bottom: 0;left: 50%;z-index: 0;}#sk-container-id-3 div.sk-serial {display: flex;flex-direction: column;align-items: center;background-color: white;padding-right: 0.2em;padding-left: 0.2em;position: relative;}#sk-container-id-3 div.sk-item {position: relative;z-index: 1;}#sk-container-id-3 div.sk-parallel {display: flex;align-items: stretch;justify-content: center;background-color: white;position: relative;}#sk-container-id-3 div.sk-item::before, #sk-container-id-3 div.sk-parallel-item::before {content: \"\";position: absolute;border-left: 1px solid gray;box-sizing: border-box;top: 0;bottom: 0;left: 50%;z-index: -1;}#sk-container-id-3 div.sk-parallel-item {display: flex;flex-direction: column;z-index: 1;position: relative;background-color: white;}#sk-container-id-3 div.sk-parallel-item:first-child::after {align-self: flex-end;width: 50%;}#sk-container-id-3 div.sk-parallel-item:last-child::after {align-self: flex-start;width: 50%;}#sk-container-id-3 div.sk-parallel-item:only-child::after {width: 0;}#sk-container-id-3 div.sk-dashed-wrapped {border: 1px dashed gray;margin: 0 0.4em 0.5em 0.4em;box-sizing: border-box;padding-bottom: 0.4em;background-color: white;}#sk-container-id-3 div.sk-label label {font-family: monospace;font-weight: bold;display: inline-block;line-height: 1.2em;}#sk-container-id-3 div.sk-label-container {text-align: center;}#sk-container-id-3 div.sk-container {/* jupyter's `normalize.less` sets `[hidden] { display: none; }` but bootstrap.min.css set `[hidden] { display: none !important; }` so we also need the `!important` here to be able to override the default hidden behavior on the sphinx rendered scikit-learn.org. See: https://github.com/scikit-learn/scikit-learn/issues/21755 */display: inline-block !important;position: relative;}#sk-container-id-3 div.sk-text-repr-fallback {display: none;}</style><div id=\"sk-container-id-3\" class=\"sk-top-container\"><div class=\"sk-text-repr-fallback\"><pre>RandomForestClassifier(n_estimators=30)</pre><b>In a Jupyter environment, please rerun this cell to show the HTML representation or trust the notebook. <br />On GitHub, the HTML representation is unable to render, please try loading this page with nbviewer.org.</b></div><div class=\"sk-container\" hidden><div class=\"sk-item\"><div class=\"sk-estimator sk-toggleable\"><input class=\"sk-toggleable__control sk-hidden--visually\" id=\"sk-estimator-id-3\" type=\"checkbox\" checked><label for=\"sk-estimator-id-3\" class=\"sk-toggleable__label sk-toggleable__label-arrow\">RandomForestClassifier</label><div class=\"sk-toggleable__content\"><pre>RandomForestClassifier(n_estimators=30)</pre></div></div></div></div></div>"
      ],
      "text/plain": [
       "RandomForestClassifier(n_estimators=30)"
      ]
     },
     "execution_count": 21,
     "metadata": {},
     "output_type": "execute_result"
    }
   ],
   "source": [
    "model = RandomForestClassifier(n_estimators=30)\n",
    "model.fit (X_train, y_train)"
   ]
  },
  {
   "cell_type": "code",
   "execution_count": 22,
   "metadata": {},
   "outputs": [
    {
     "name": "stdout",
     "output_type": "stream",
     "text": [
      "              precision    recall  f1-score   support\n",
      "\n",
      "           0       0.94      0.96      0.95     85808\n",
      "           1       0.89      0.94      0.91     19329\n",
      "           2       0.89      0.84      0.86      6461\n",
      "           3       0.78      0.65      0.71     18641\n",
      "\n",
      "    accuracy                           0.91    130239\n",
      "   macro avg       0.87      0.85      0.86    130239\n",
      "weighted avg       0.90      0.91      0.90    130239\n",
      "\n"
     ]
    }
   ],
   "source": [
    "y_pred = model.predict (X_test)\n",
    "print (classification_report (y_test, y_pred))"
   ]
  },
  {
   "cell_type": "markdown",
   "metadata": {},
   "source": [
    "Cat Boost"
   ]
  },
  {
   "cell_type": "code",
   "execution_count": 23,
   "metadata": {},
   "outputs": [
    {
     "name": "stdout",
     "output_type": "stream",
     "text": [
      "0:\tlearn: 1.1976035\ttotal: 252ms\tremaining: 25s\n",
      "1:\tlearn: 1.0641594\ttotal: 338ms\tremaining: 16.6s\n",
      "2:\tlearn: 0.9599770\ttotal: 429ms\tremaining: 13.9s\n",
      "3:\tlearn: 0.8785258\ttotal: 520ms\tremaining: 12.5s\n",
      "4:\tlearn: 0.8123414\ttotal: 625ms\tremaining: 11.9s\n",
      "5:\tlearn: 0.7576380\ttotal: 733ms\tremaining: 11.5s\n",
      "6:\tlearn: 0.7101355\ttotal: 829ms\tremaining: 11s\n",
      "7:\tlearn: 0.6701107\ttotal: 924ms\tremaining: 10.6s\n",
      "8:\tlearn: 0.6346151\ttotal: 1.02s\tremaining: 10.3s\n",
      "9:\tlearn: 0.6056169\ttotal: 1.12s\tremaining: 10s\n",
      "10:\tlearn: 0.5791846\ttotal: 1.23s\tremaining: 9.96s\n",
      "11:\tlearn: 0.5565808\ttotal: 1.32s\tremaining: 9.7s\n",
      "12:\tlearn: 0.5363666\ttotal: 1.41s\tremaining: 9.41s\n",
      "13:\tlearn: 0.5167382\ttotal: 1.5s\tremaining: 9.23s\n",
      "14:\tlearn: 0.4990431\ttotal: 1.59s\tremaining: 9.01s\n",
      "15:\tlearn: 0.4836211\ttotal: 1.68s\tremaining: 8.84s\n",
      "16:\tlearn: 0.4692427\ttotal: 1.78s\tremaining: 8.68s\n",
      "17:\tlearn: 0.4582173\ttotal: 1.86s\tremaining: 8.46s\n",
      "18:\tlearn: 0.4474870\ttotal: 1.94s\tremaining: 8.28s\n",
      "19:\tlearn: 0.4372609\ttotal: 2.03s\tremaining: 8.11s\n",
      "20:\tlearn: 0.4277445\ttotal: 2.12s\tremaining: 7.97s\n",
      "21:\tlearn: 0.4189090\ttotal: 2.21s\tremaining: 7.82s\n",
      "22:\tlearn: 0.4107369\ttotal: 2.29s\tremaining: 7.68s\n",
      "23:\tlearn: 0.4036892\ttotal: 2.39s\tremaining: 7.57s\n",
      "24:\tlearn: 0.3970323\ttotal: 2.48s\tremaining: 7.43s\n",
      "25:\tlearn: 0.3904493\ttotal: 2.57s\tremaining: 7.32s\n",
      "26:\tlearn: 0.3848295\ttotal: 2.67s\tremaining: 7.22s\n",
      "27:\tlearn: 0.3799809\ttotal: 2.77s\tremaining: 7.12s\n",
      "28:\tlearn: 0.3753735\ttotal: 2.86s\tremaining: 7s\n",
      "29:\tlearn: 0.3718482\ttotal: 2.96s\tremaining: 6.9s\n",
      "30:\tlearn: 0.3676814\ttotal: 3.05s\tremaining: 6.79s\n",
      "31:\tlearn: 0.3635771\ttotal: 3.14s\tremaining: 6.68s\n",
      "32:\tlearn: 0.3598902\ttotal: 3.23s\tremaining: 6.56s\n",
      "33:\tlearn: 0.3560298\ttotal: 3.32s\tremaining: 6.45s\n",
      "34:\tlearn: 0.3534992\ttotal: 3.42s\tremaining: 6.35s\n",
      "35:\tlearn: 0.3504111\ttotal: 3.51s\tremaining: 6.24s\n",
      "36:\tlearn: 0.3471124\ttotal: 3.6s\tremaining: 6.13s\n",
      "37:\tlearn: 0.3444883\ttotal: 3.7s\tremaining: 6.04s\n",
      "38:\tlearn: 0.3422001\ttotal: 3.8s\tremaining: 5.95s\n",
      "39:\tlearn: 0.3397965\ttotal: 3.9s\tremaining: 5.84s\n",
      "40:\tlearn: 0.3377759\ttotal: 4s\tremaining: 5.75s\n",
      "41:\tlearn: 0.3357078\ttotal: 4.08s\tremaining: 5.63s\n",
      "42:\tlearn: 0.3339850\ttotal: 4.17s\tremaining: 5.52s\n",
      "43:\tlearn: 0.3322077\ttotal: 4.25s\tremaining: 5.41s\n",
      "44:\tlearn: 0.3306656\ttotal: 4.34s\tremaining: 5.3s\n",
      "45:\tlearn: 0.3291946\ttotal: 4.41s\tremaining: 5.18s\n",
      "46:\tlearn: 0.3277979\ttotal: 4.51s\tremaining: 5.08s\n",
      "47:\tlearn: 0.3264801\ttotal: 4.6s\tremaining: 4.98s\n",
      "48:\tlearn: 0.3248658\ttotal: 4.71s\tremaining: 4.9s\n",
      "49:\tlearn: 0.3238206\ttotal: 4.78s\tremaining: 4.78s\n",
      "50:\tlearn: 0.3227521\ttotal: 4.87s\tremaining: 4.67s\n",
      "51:\tlearn: 0.3212490\ttotal: 4.95s\tremaining: 4.57s\n",
      "52:\tlearn: 0.3200327\ttotal: 5.04s\tremaining: 4.47s\n",
      "53:\tlearn: 0.3189904\ttotal: 5.12s\tremaining: 4.37s\n",
      "54:\tlearn: 0.3181305\ttotal: 5.21s\tremaining: 4.27s\n",
      "55:\tlearn: 0.3174542\ttotal: 5.32s\tremaining: 4.18s\n",
      "56:\tlearn: 0.3164861\ttotal: 5.43s\tremaining: 4.09s\n",
      "57:\tlearn: 0.3155260\ttotal: 5.53s\tremaining: 4s\n",
      "58:\tlearn: 0.3148184\ttotal: 5.62s\tremaining: 3.9s\n",
      "59:\tlearn: 0.3135018\ttotal: 5.71s\tremaining: 3.81s\n",
      "60:\tlearn: 0.3126939\ttotal: 5.81s\tremaining: 3.71s\n",
      "61:\tlearn: 0.3119192\ttotal: 5.89s\tremaining: 3.61s\n",
      "62:\tlearn: 0.3111124\ttotal: 5.97s\tremaining: 3.51s\n",
      "63:\tlearn: 0.3099323\ttotal: 6.06s\tremaining: 3.41s\n",
      "64:\tlearn: 0.3092221\ttotal: 6.14s\tremaining: 3.31s\n",
      "65:\tlearn: 0.3084836\ttotal: 6.22s\tremaining: 3.21s\n",
      "66:\tlearn: 0.3078930\ttotal: 6.31s\tremaining: 3.11s\n",
      "67:\tlearn: 0.3071920\ttotal: 6.4s\tremaining: 3.01s\n",
      "68:\tlearn: 0.3065657\ttotal: 6.47s\tremaining: 2.91s\n",
      "69:\tlearn: 0.3057661\ttotal: 6.56s\tremaining: 2.81s\n",
      "70:\tlearn: 0.3053532\ttotal: 6.63s\tremaining: 2.71s\n",
      "71:\tlearn: 0.3046776\ttotal: 6.72s\tremaining: 2.61s\n",
      "72:\tlearn: 0.3042087\ttotal: 6.8s\tremaining: 2.51s\n",
      "73:\tlearn: 0.3036415\ttotal: 6.89s\tremaining: 2.42s\n",
      "74:\tlearn: 0.3029984\ttotal: 6.97s\tremaining: 2.33s\n",
      "75:\tlearn: 0.3027170\ttotal: 7.05s\tremaining: 2.23s\n",
      "76:\tlearn: 0.3019404\ttotal: 7.14s\tremaining: 2.13s\n",
      "77:\tlearn: 0.3014935\ttotal: 7.22s\tremaining: 2.04s\n",
      "78:\tlearn: 0.3011708\ttotal: 7.3s\tremaining: 1.94s\n",
      "79:\tlearn: 0.3007100\ttotal: 7.39s\tremaining: 1.85s\n",
      "80:\tlearn: 0.3004380\ttotal: 7.46s\tremaining: 1.75s\n",
      "81:\tlearn: 0.3000171\ttotal: 7.55s\tremaining: 1.66s\n",
      "82:\tlearn: 0.2997169\ttotal: 7.62s\tremaining: 1.56s\n",
      "83:\tlearn: 0.2991884\ttotal: 7.7s\tremaining: 1.47s\n",
      "84:\tlearn: 0.2987824\ttotal: 7.78s\tremaining: 1.37s\n",
      "85:\tlearn: 0.2983321\ttotal: 7.88s\tremaining: 1.28s\n",
      "86:\tlearn: 0.2980596\ttotal: 7.95s\tremaining: 1.19s\n",
      "87:\tlearn: 0.2977788\ttotal: 8.02s\tremaining: 1.09s\n",
      "88:\tlearn: 0.2974088\ttotal: 8.1s\tremaining: 1s\n",
      "89:\tlearn: 0.2970373\ttotal: 8.2s\tremaining: 911ms\n",
      "90:\tlearn: 0.2964173\ttotal: 8.28s\tremaining: 819ms\n",
      "91:\tlearn: 0.2961672\ttotal: 8.36s\tremaining: 727ms\n",
      "92:\tlearn: 0.2959196\ttotal: 8.44s\tremaining: 635ms\n",
      "93:\tlearn: 0.2954477\ttotal: 8.52s\tremaining: 544ms\n",
      "94:\tlearn: 0.2951163\ttotal: 8.61s\tremaining: 453ms\n",
      "95:\tlearn: 0.2948986\ttotal: 8.69s\tremaining: 362ms\n",
      "96:\tlearn: 0.2945033\ttotal: 8.78s\tremaining: 271ms\n",
      "97:\tlearn: 0.2940019\ttotal: 8.87s\tremaining: 181ms\n",
      "98:\tlearn: 0.2937723\ttotal: 8.95s\tremaining: 90.4ms\n",
      "99:\tlearn: 0.2932931\ttotal: 9.03s\tremaining: 0us\n"
     ]
    },
    {
     "data": {
      "text/plain": [
       "<catboost.core.CatBoostClassifier at 0x2389489a410>"
      ]
     },
     "execution_count": 23,
     "metadata": {},
     "output_type": "execute_result"
    }
   ],
   "source": [
    "cat_features = []\n",
    "cat_model = catboost.CatBoostClassifier(iterations=100, learning_rate=0.1, depth=6, loss_function='MultiClass')\n",
    "cat_model.fit (X_train, y_train, cat_features=cat_features)"
   ]
  },
  {
   "cell_type": "code",
   "execution_count": 24,
   "metadata": {},
   "outputs": [],
   "source": [
    "cat_pred = cat_model.predict(X_test)"
   ]
  },
  {
   "cell_type": "code",
   "execution_count": 25,
   "metadata": {},
   "outputs": [
    {
     "name": "stdout",
     "output_type": "stream",
     "text": [
      "Classification Report:\n",
      "               precision    recall  f1-score   support\n",
      "\n",
      "           0       0.97      0.92      0.94     89675\n",
      "           1       0.92      0.84      0.88     21246\n",
      "           2       0.70      0.84      0.77      5359\n",
      "           3       0.58      0.78      0.67     13959\n",
      "\n",
      "    accuracy                           0.89    130239\n",
      "   macro avg       0.79      0.85      0.81    130239\n",
      "weighted avg       0.91      0.89      0.90    130239\n",
      "\n",
      "Confusion Matrix:\n",
      " [[82852   681   251  5891]\n",
      " [  591 17863  1236  1556]\n",
      " [  107   401  4526   325]\n",
      " [ 2258   384   448 10869]]\n"
     ]
    }
   ],
   "source": [
    "report = classification_report(cat_pred, y_test)\n",
    "confusion = confusion_matrix(cat_pred, y_test)\n",
    "print(\"Classification Report:\\n\", report)\n",
    "print(\"Confusion Matrix:\\n\", confusion)"
   ]
  },
  {
   "cell_type": "markdown",
   "metadata": {},
   "source": [
    "SMOTE "
   ]
  },
  {
   "cell_type": "code",
   "execution_count": 26,
   "metadata": {},
   "outputs": [
    {
     "data": {
      "text/plain": [
       "type\n",
       "0    85808\n",
       "1    19329\n",
       "3    18641\n",
       "2     6461\n",
       "Name: count, dtype: int64"
      ]
     },
     "execution_count": 26,
     "metadata": {},
     "output_type": "execute_result"
    }
   ],
   "source": [
    "y_test.value_counts()"
   ]
  },
  {
   "cell_type": "code",
   "execution_count": 28,
   "metadata": {},
   "outputs": [],
   "source": [
    "smote = SMOTE(sampling_strategy='minority', k_neighbors=4)"
   ]
  },
  {
   "cell_type": "code",
   "execution_count": 29,
   "metadata": {},
   "outputs": [],
   "source": [
    "X_smt, y_smt = smote.fit_resample(X_train, y_train)"
   ]
  },
  {
   "cell_type": "code",
   "execution_count": 30,
   "metadata": {},
   "outputs": [
    {
     "name": "stdout",
     "output_type": "stream",
     "text": [
      "0:\tlearn: 1.1990668\ttotal: 171ms\tremaining: 16.9s\n",
      "1:\tlearn: 1.0679899\ttotal: 313ms\tremaining: 15.4s\n",
      "2:\tlearn: 0.9693210\ttotal: 467ms\tremaining: 15.1s\n",
      "3:\tlearn: 0.8911636\ttotal: 607ms\tremaining: 14.6s\n",
      "4:\tlearn: 0.8260236\ttotal: 750ms\tremaining: 14.2s\n",
      "5:\tlearn: 0.7711966\ttotal: 894ms\tremaining: 14s\n",
      "6:\tlearn: 0.7257807\ttotal: 1.04s\tremaining: 13.8s\n",
      "7:\tlearn: 0.6872775\ttotal: 1.18s\tremaining: 13.6s\n",
      "8:\tlearn: 0.6531728\ttotal: 1.32s\tremaining: 13.3s\n",
      "9:\tlearn: 0.6243661\ttotal: 1.48s\tremaining: 13.3s\n",
      "10:\tlearn: 0.5979728\ttotal: 1.63s\tremaining: 13.2s\n",
      "11:\tlearn: 0.5756548\ttotal: 1.79s\tremaining: 13.1s\n",
      "12:\tlearn: 0.5559690\ttotal: 1.95s\tremaining: 13s\n",
      "13:\tlearn: 0.5401300\ttotal: 2.09s\tremaining: 12.8s\n",
      "14:\tlearn: 0.5243182\ttotal: 2.24s\tremaining: 12.7s\n",
      "15:\tlearn: 0.5079817\ttotal: 2.4s\tremaining: 12.6s\n",
      "16:\tlearn: 0.4936661\ttotal: 2.57s\tremaining: 12.5s\n",
      "17:\tlearn: 0.4820937\ttotal: 2.72s\tremaining: 12.4s\n",
      "18:\tlearn: 0.4701780\ttotal: 2.86s\tremaining: 12.2s\n",
      "19:\tlearn: 0.4606756\ttotal: 3s\tremaining: 12s\n",
      "20:\tlearn: 0.4522057\ttotal: 3.14s\tremaining: 11.8s\n",
      "21:\tlearn: 0.4434874\ttotal: 3.29s\tremaining: 11.7s\n",
      "22:\tlearn: 0.4367463\ttotal: 3.45s\tremaining: 11.6s\n",
      "23:\tlearn: 0.4293982\ttotal: 3.58s\tremaining: 11.3s\n",
      "24:\tlearn: 0.4222880\ttotal: 3.73s\tremaining: 11.2s\n",
      "25:\tlearn: 0.4168434\ttotal: 3.87s\tremaining: 11s\n",
      "26:\tlearn: 0.4115045\ttotal: 4.02s\tremaining: 10.9s\n",
      "27:\tlearn: 0.4062124\ttotal: 4.16s\tremaining: 10.7s\n",
      "28:\tlearn: 0.4018427\ttotal: 4.32s\tremaining: 10.6s\n",
      "29:\tlearn: 0.3971868\ttotal: 4.47s\tremaining: 10.4s\n",
      "30:\tlearn: 0.3929242\ttotal: 4.61s\tremaining: 10.3s\n",
      "31:\tlearn: 0.3891427\ttotal: 4.74s\tremaining: 10.1s\n",
      "32:\tlearn: 0.3851611\ttotal: 4.88s\tremaining: 9.9s\n",
      "33:\tlearn: 0.3822816\ttotal: 5.01s\tremaining: 9.74s\n",
      "34:\tlearn: 0.3796625\ttotal: 5.18s\tremaining: 9.63s\n",
      "35:\tlearn: 0.3768902\ttotal: 5.33s\tremaining: 9.47s\n",
      "36:\tlearn: 0.3740885\ttotal: 5.47s\tremaining: 9.31s\n",
      "37:\tlearn: 0.3715086\ttotal: 5.61s\tremaining: 9.15s\n",
      "38:\tlearn: 0.3694751\ttotal: 5.73s\tremaining: 8.97s\n",
      "39:\tlearn: 0.3672719\ttotal: 5.87s\tremaining: 8.81s\n",
      "40:\tlearn: 0.3647984\ttotal: 6.05s\tremaining: 8.7s\n",
      "41:\tlearn: 0.3628192\ttotal: 6.19s\tremaining: 8.55s\n",
      "42:\tlearn: 0.3609585\ttotal: 6.35s\tremaining: 8.41s\n",
      "43:\tlearn: 0.3590708\ttotal: 6.48s\tremaining: 8.25s\n",
      "44:\tlearn: 0.3569274\ttotal: 6.62s\tremaining: 8.1s\n",
      "45:\tlearn: 0.3546641\ttotal: 6.78s\tremaining: 7.96s\n",
      "46:\tlearn: 0.3531435\ttotal: 6.92s\tremaining: 7.8s\n",
      "47:\tlearn: 0.3517674\ttotal: 7.05s\tremaining: 7.64s\n",
      "48:\tlearn: 0.3503470\ttotal: 7.19s\tremaining: 7.48s\n",
      "49:\tlearn: 0.3484380\ttotal: 7.33s\tremaining: 7.33s\n",
      "50:\tlearn: 0.3471344\ttotal: 7.49s\tremaining: 7.2s\n",
      "51:\tlearn: 0.3463762\ttotal: 7.67s\tremaining: 7.08s\n",
      "52:\tlearn: 0.3446077\ttotal: 7.84s\tremaining: 6.95s\n",
      "53:\tlearn: 0.3432091\ttotal: 7.99s\tremaining: 6.8s\n",
      "54:\tlearn: 0.3420944\ttotal: 8.14s\tremaining: 6.66s\n",
      "55:\tlearn: 0.3413003\ttotal: 8.28s\tremaining: 6.51s\n",
      "56:\tlearn: 0.3400956\ttotal: 8.43s\tremaining: 6.36s\n",
      "57:\tlearn: 0.3390350\ttotal: 8.57s\tremaining: 6.21s\n",
      "58:\tlearn: 0.3382849\ttotal: 8.7s\tremaining: 6.04s\n",
      "59:\tlearn: 0.3375105\ttotal: 8.83s\tremaining: 5.89s\n",
      "60:\tlearn: 0.3360028\ttotal: 8.99s\tremaining: 5.75s\n",
      "61:\tlearn: 0.3349587\ttotal: 9.13s\tremaining: 5.6s\n",
      "62:\tlearn: 0.3339537\ttotal: 9.27s\tremaining: 5.45s\n",
      "63:\tlearn: 0.3328748\ttotal: 9.4s\tremaining: 5.29s\n",
      "64:\tlearn: 0.3322376\ttotal: 9.53s\tremaining: 5.13s\n",
      "65:\tlearn: 0.3314584\ttotal: 9.67s\tremaining: 4.98s\n",
      "66:\tlearn: 0.3306872\ttotal: 9.84s\tremaining: 4.85s\n",
      "67:\tlearn: 0.3294611\ttotal: 9.99s\tremaining: 4.7s\n",
      "68:\tlearn: 0.3282474\ttotal: 10.1s\tremaining: 4.55s\n",
      "69:\tlearn: 0.3277007\ttotal: 10.3s\tremaining: 4.4s\n",
      "70:\tlearn: 0.3268569\ttotal: 10.4s\tremaining: 4.25s\n",
      "71:\tlearn: 0.3257739\ttotal: 10.5s\tremaining: 4.09s\n",
      "72:\tlearn: 0.3251156\ttotal: 10.7s\tremaining: 3.94s\n",
      "73:\tlearn: 0.3244291\ttotal: 10.8s\tremaining: 3.79s\n",
      "74:\tlearn: 0.3239440\ttotal: 11s\tremaining: 3.66s\n",
      "75:\tlearn: 0.3233280\ttotal: 11.1s\tremaining: 3.52s\n",
      "76:\tlearn: 0.3226618\ttotal: 11.3s\tremaining: 3.37s\n",
      "77:\tlearn: 0.3219070\ttotal: 11.5s\tremaining: 3.23s\n",
      "78:\tlearn: 0.3213606\ttotal: 11.6s\tremaining: 3.08s\n",
      "79:\tlearn: 0.3208792\ttotal: 11.8s\tremaining: 2.95s\n",
      "80:\tlearn: 0.3198683\ttotal: 12s\tremaining: 2.8s\n",
      "81:\tlearn: 0.3194389\ttotal: 12.1s\tremaining: 2.65s\n",
      "82:\tlearn: 0.3190281\ttotal: 12.2s\tremaining: 2.5s\n",
      "83:\tlearn: 0.3181884\ttotal: 12.3s\tremaining: 2.35s\n",
      "84:\tlearn: 0.3171622\ttotal: 12.5s\tremaining: 2.21s\n",
      "85:\tlearn: 0.3165248\ttotal: 12.6s\tremaining: 2.06s\n",
      "86:\tlearn: 0.3161589\ttotal: 12.8s\tremaining: 1.91s\n",
      "87:\tlearn: 0.3157503\ttotal: 12.9s\tremaining: 1.76s\n",
      "88:\tlearn: 0.3151131\ttotal: 13s\tremaining: 1.61s\n",
      "89:\tlearn: 0.3146098\ttotal: 13.2s\tremaining: 1.46s\n",
      "90:\tlearn: 0.3142029\ttotal: 13.3s\tremaining: 1.31s\n",
      "91:\tlearn: 0.3139098\ttotal: 13.4s\tremaining: 1.17s\n",
      "92:\tlearn: 0.3135433\ttotal: 13.5s\tremaining: 1.02s\n",
      "93:\tlearn: 0.3130000\ttotal: 13.7s\tremaining: 873ms\n",
      "94:\tlearn: 0.3125458\ttotal: 13.8s\tremaining: 728ms\n",
      "95:\tlearn: 0.3121501\ttotal: 14s\tremaining: 582ms\n",
      "96:\tlearn: 0.3115541\ttotal: 14.1s\tremaining: 436ms\n",
      "97:\tlearn: 0.3113067\ttotal: 14.2s\tremaining: 290ms\n",
      "98:\tlearn: 0.3107635\ttotal: 14.4s\tremaining: 145ms\n",
      "99:\tlearn: 0.3103600\ttotal: 14.5s\tremaining: 0us\n"
     ]
    },
    {
     "data": {
      "text/plain": [
       "<catboost.core.CatBoostClassifier at 0x2389489a410>"
      ]
     },
     "execution_count": 30,
     "metadata": {},
     "output_type": "execute_result"
    }
   ],
   "source": [
    "cat_model.fit (X_smt, y_smt, cat_features=cat_features)"
   ]
  },
  {
   "cell_type": "code",
   "execution_count": 31,
   "metadata": {},
   "outputs": [],
   "source": [
    "cat_pred = cat_model.predict(X_test)"
   ]
  },
  {
   "cell_type": "code",
   "execution_count": 32,
   "metadata": {},
   "outputs": [
    {
     "name": "stdout",
     "output_type": "stream",
     "text": [
      "Classification Report:\n",
      "               precision    recall  f1-score   support\n",
      "\n",
      "           0       0.96      0.92      0.94     88979\n",
      "           1       0.70      0.91      0.79     14859\n",
      "           2       0.92      0.41      0.57     14468\n",
      "           3       0.51      0.80      0.62     11933\n",
      "\n",
      "    accuracy                           0.85    130239\n",
      "   macro avg       0.77      0.76      0.73    130239\n",
      "weighted avg       0.88      0.85      0.85    130239\n",
      "\n",
      "Confusion Matrix:\n",
      " [[82255   574   123  6027]\n",
      " [  486 13450   189   734]\n",
      " [ 1084  5095  5947  2342]\n",
      " [ 1983   210   202  9538]]\n"
     ]
    }
   ],
   "source": [
    "report = classification_report(cat_pred, y_test)\n",
    "confusion = confusion_matrix(cat_pred, y_test)\n",
    "print(\"Classification Report:\\n\", report)\n",
    "print(\"Confusion Matrix:\\n\", confusion)"
   ]
  }
 ],
 "metadata": {
  "kernelspec": {
   "display_name": "Python 3",
   "language": "python",
   "name": "python3"
  },
  "language_info": {
   "codemirror_mode": {
    "name": "ipython",
    "version": 3
   },
   "file_extension": ".py",
   "mimetype": "text/x-python",
   "name": "python",
   "nbconvert_exporter": "python",
   "pygments_lexer": "ipython3",
   "version": "3.11.8"
  },
  "orig_nbformat": 4
 },
 "nbformat": 4,
 "nbformat_minor": 2
}
